{
 "cells": [
  {
   "cell_type": "markdown",
   "metadata": {},
   "source": [
    "# openAI API를 통해 chatGPT에게 질문을 보내고 respond를 저장하고, 예외를 처리합니다.\n",
    "- 질문\n",
    "    - [질문 내용] + [문자 내용] \n",
    "        - 질문 내용\n",
    "            - 예를 들어 \"이것이 스팸 문자일까? 아니면 햄일까?\" 와 같은 식의 텍스트 입니다.\n",
    "            - 다음과 같은 형태의 입력을 받도록 작성하였습니다.\n",
    "\n",
    "        - 문자 내용\n",
    "            - KISA에서 받은 스팸 문자들입니다.\n",
    "            - 다음과 같은 형태로 입력받도록 작성하였습니다.\n",
    "                - KISA에서 제공하는 .csv 파일\n",
    "                - 아직 엑셀 입력은 미구현\n",
    "\n",
    "- openAI API는 병렬처리를 지원하지 않기 때문에 시간이 오래 걸립니다."
   ]
  },
  {
   "cell_type": "code",
   "execution_count": 5,
   "metadata": {},
   "outputs": [
    {
     "name": "stdout",
     "output_type": "stream",
     "text": [
      "KISA 스팸 문자 데이터 파일 목록 :\n",
      "0\t ./data\\20220830_GBL.csv\n",
      "1\t ./data\\20220911_GBL.csv\n",
      "2\t ./data\\20220918_GBL.csv\n",
      "3\t ./data\\20220925_GBL.csv\n",
      "4\t ./data\\20221002_GBL.csv\n",
      "5\t ./data\\20221009_GBL.csv\n",
      "6\t ./data\\20221016_GBL.csv\n",
      "7\t ./data\\20221023_GBL.csv\n",
      "8\t ./data\\20221030_GBL.csv\n",
      "9\t ./data\\20221106_GBL.csv\n",
      "10\t ./data\\20221113_GBL.csv\n",
      "11\t ./data\\20221120_GBL.csv\n",
      "12\t ./data\\20221127_GBL.csv\n",
      "13\t ./data\\20221204_GBL.csv\n",
      "14\t ./data\\20221211_GBL.csv\n",
      "15\t ./data\\20221218_GBL.csv\n",
      "16\t ./data\\20221225_GBL.csv\n",
      "17\t ./data\\20230101_GBL_copy.csv\n",
      "18\t ./data\\20230101_GBL_copy2.csv\n",
      "19\t ./data\\20230108_GBL_copy3.csv\n",
      "\n",
      "\n",
      "처리할 파일 :\n",
      "./data\\20221225_GBL.csv\n"
     ]
    }
   ],
   "source": [
    "import os\n",
    "import glob\n",
    "import json\n",
    "import time\n",
    "import openai\n",
    "\n",
    "\n",
    "from query_openai import queryQuestions\n",
    "from text_message import TextMessage, parseKISASpamDataFile\n",
    "\n",
    "# openAI API key를 이 파일에 저장하세요.\n",
    "# [KEY1, KEY2, ... ] 와 같은 형식으로 저장하세요.\n",
    "# 여기서는 1개의 키만 사용합니다.\n",
    "OPENAI_API_KEY_FILE_PATH = \"./openai_api_keys.json\"\n",
    "\n",
    "# chatGPT 모델 이름을 선택하세요\n",
    "# https://platform.openai.com/docs/models/overview\n",
    "GPT_MODEL_NAME = \"gpt-3.5-turbo\"\n",
    "\n",
    "# KISA 에서 전달받은 스팸 문자 csv 파일을 이 디렉토리에 저장하세요\n",
    "DATA_DIR_PATH = \"./data/\"\n",
    "assert os.path.exists(DATA_DIR_PATH), f\"{DATA_DIR_PATH} 디렉토리가 존재하지 않습니다.\"\n",
    "\n",
    "# 결과를 저장할 디렉토리를 지정하세요\n",
    "SAVE_FILE_DIR_PATH = \"./results/\"\n",
    "assert os.path.exists(SAVE_FILE_DIR_PATH), f\"{SAVE_FILE_DIR_PATH} 디렉토리가 존재하지 않습니다.\"\n",
    "\n",
    "# chatGPT에 보낼 쿼리의 질문을 지정하세요\n",
    "QUERY_QUESTION = \"다음 문자는 스팸 문자일까, 아닐까? \\n\"\n",
    "\n",
    "# read openAI API key\n",
    "with open(OPENAI_API_KEY_FILE_PATH, \"r\") as fp :\n",
    "    openai_api_key = json.load(fp)[0]\n",
    "    # openai API 키 인증\n",
    "    openai.api_key = openai_api_key\n",
    "\n",
    "# read KISA-provided spam data file path \n",
    "spam_data_file_path_list = glob.glob(os.path.join(DATA_DIR_PATH, \"*.csv\"))\n",
    "print(\"KISA 스팸 문자 데이터 파일 목록 :\")\n",
    "for idx, file_path in enumerate(spam_data_file_path_list) :\n",
    "    print(f\"{idx}\\t {file_path}\")\n",
    "print()\n",
    "\n",
    "spam_data_file_idx = input(\"처리할 스팸 문자 데이터 파일의 인덱스를 입력하세요 : \")\n",
    "print()\n",
    "SPAM_DATA_PATH = spam_data_file_path_list[int(spam_data_file_idx)]\n",
    "\n",
    "print(\"처리할 파일 :\")\n",
    "print(SPAM_DATA_PATH)"
   ]
  },
  {
   "cell_type": "code",
   "execution_count": 6,
   "metadata": {},
   "outputs": [
    {
     "ename": "",
     "evalue": "",
     "output_type": "error",
     "traceback": [
      "\u001b[1;31mThe Kernel crashed while executing code in the the current cell or a previous cell. Please review the code in the cell(s) to identify a possible cause of the failure. Click <a href='https://aka.ms/vscodeJupyterKernelCrash'>here</a> for more info. View Jupyter <a href='command:jupyter.viewOutput'>log</a> for further details."
     ]
    }
   ],
   "source": [
    "spam_data_list = parseKISASpamDataFile(SPAM_DATA_PATH)\n",
    "for data in spam_data_list :\n",
    "    data.query_content = QUERY_QUESTION + data.content"
   ]
  },
  {
   "cell_type": "markdown",
   "metadata": {},
   "source": [
    "### ChatGPT 쿼리 \n",
    "- queryQuestions 함수는 spam_data_list 중 query_succeed==False 인 원소만 골라내 쿼리를 날립니다.\n",
    "- 아래의 셀에서 number of data to process 가 0 이 될 때 까지 반복적으로 실행하십시오"
   ]
  },
  {
   "cell_type": "code",
   "execution_count": 8,
   "metadata": {},
   "outputs": [
    {
     "name": "stdout",
     "output_type": "stream",
     "text": [
      "number of data to process :  10\n",
      "processing..\n"
     ]
    },
    {
     "name": "stderr",
     "output_type": "stream",
     "text": [
      "100%|██████████| 10/10 [01:08<00:00,  6.86s/it]"
     ]
    },
    {
     "name": "stdout",
     "output_type": "stream",
     "text": [
      "[0] data left to process\n"
     ]
    },
    {
     "name": "stderr",
     "output_type": "stream",
     "text": [
      "\n"
     ]
    }
   ],
   "source": [
    "queryQuestions(\n",
    "    model_name = GPT_MODEL_NAME,\n",
    "    spam_data_list = spam_data_list\n",
    ")"
   ]
  },
  {
   "cell_type": "markdown",
   "metadata": {},
   "source": [
    "## save result to file\n",
    "- 모든 결과를 json 파일에 저장합니다."
   ]
  },
  {
   "cell_type": "code",
   "execution_count": 9,
   "metadata": {},
   "outputs": [
    {
     "name": "stdout",
     "output_type": "stream",
     "text": [
      "saving result to 20220830_GBL_processed_20230830181245.json\n",
      "file saved\n"
     ]
    }
   ],
   "source": [
    "RESULT_FILE_NAME = \"{}_processed_{}.json\".format(\n",
    "    os.path.basename(SPAM_DATA_PATH).split(\".\")[0],\n",
    "   time.strftime(\"%Y%m%d%H%M%S\")\n",
    ")\n",
    "RESULT_FILE_PATH = os.path.join(SAVE_FILE_DIR_PATH, RESULT_FILE_NAME)\n",
    "\n",
    "print(\"saving result to {}\".format(RESULT_FILE_PATH))\n",
    "with open(RESULT_FILE_PATH, \"w\") as fp :\n",
    "    json.dump(\n",
    "        list(map(\n",
    "            lambda data : data.toDict(),\n",
    "            spam_data_list\n",
    "        )),\n",
    "        fp,\n",
    "        indent=2,\n",
    "        ensure_ascii=False\n",
    "    )\n",
    "print(\"file saved\")"
   ]
  }
 ],
 "metadata": {
  "kernelspec": {
   "display_name": "base",
   "language": "python",
   "name": "python3"
  },
  "language_info": {
   "codemirror_mode": {
    "name": "ipython",
    "version": 3
   },
   "file_extension": ".py",
   "mimetype": "text/x-python",
   "name": "python",
   "nbconvert_exporter": "python",
   "pygments_lexer": "ipython3",
   "version": "3.7.13"
  },
  "orig_nbformat": 4
 },
 "nbformat": 4,
 "nbformat_minor": 2
}
